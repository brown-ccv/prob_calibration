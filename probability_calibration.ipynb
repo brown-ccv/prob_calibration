{
 "cells": [
  {
   "cell_type": "markdown",
   "metadata": {},
   "source": [
    "## Predicted probabilities in classification\n",
    "- often more important than the predicted class\n",
    "- example: health care\n",
    "    - predict if a patient is sick or not\n",
    "    - the predicted probability describes how confident the model is vs. a simple yes-no label\n",
    "        - 51% and 99% probabilities both translate to a yes label\n",
    "- another example: banking\n",
    "    - predict if a customer will be able to pay back a loan\n",
    "    - same issue: predicted probability is usually better than the yes-no label\n",
    "- third example: any classification problem that is followed by a resource-intensive intervention\n",
    "    - e.g., treatment is expensive so you want to rank the patients\n",
    "        - can't do that with yes-no labels, but you can with probabilities"
   ]
  },
  {
   "cell_type": "markdown",
   "metadata": {},
   "source": [
    "## Can we trust the predicted probabilities?\n",
    "- take all points in your test set\n",
    "- collect points with a predicted probability between x% and x+epsilon%\n",
    "- check the true labels of those points and calculate what fraction of points are in class 1\n",
    "- if the fraction is close to x%, you can trust the predicted probabilities\n",
    "- otherwise the probabilities are off and you need to calibrate them"
   ]
  },
  {
   "cell_type": "markdown",
   "metadata": {},
   "source": [
    "## Example\n",
    "- adult dataset, 1990 census data, do people earn less or more than 50k annually?\n",
    "- 75% of people earn less than 50k and classifiers have a trouble pushing the accuracy near 90%\n",
    "- tried a couple of classifiers\n",
    "    - some were well-calibrated, some weren't\n",
    "- I take the uncalibrated classifier and applied sklearn's `CalibratedClassifierCV` to it\n",
    "- read more [here](https://scikit-learn.org/stable/modules/calibration.html#calibration) and [here](https://scikit-learn.org/stable/modules/generated/sklearn.calibration.CalibratedClassifierCV.html)"
   ]
  },
  {
   "cell_type": "code",
   "execution_count": 36,
   "metadata": {},
   "outputs": [],
   "source": [
    "import numpy as np\n",
    "import pandas as pd\n",
    "from sklearn.preprocessing import LabelEncoder\n",
    "from sklearn.svm import SVC\n",
    "from sklearn.linear_model import LogisticRegression\n",
    "from sklearn.ensemble import RandomForestClassifier\n",
    "from sklearn.neural_network import MLPClassifier\n",
    "from sklearn.svm import SVC\n",
    "from sklearn.pipeline import make_pipeline\n",
    "from sklearn.model_selection import GridSearchCV\n",
    "from sklearn.model_selection import train_test_split\n",
    "from sklearn.model_selection import StratifiedKFold\n",
    "from sklearn.preprocessing import StandardScaler\n",
    "from sklearn.compose import ColumnTransformer\n",
    "from sklearn.pipeline import Pipeline\n",
    "from sklearn.preprocessing import OneHotEncoder\n",
    "import matplotlib.pylab as plt\n",
    "from itertools import combinations, product"
   ]
  },
  {
   "cell_type": "code",
   "execution_count": 37,
   "metadata": {},
   "outputs": [
    {
     "name": "stdout",
     "output_type": "stream",
     "text": [
      "[' <=50K' ' >50K']\n",
      "   age          workclass  fnlwgt   education  education-num  \\\n",
      "0   39          State-gov   77516   Bachelors             13   \n",
      "1   50   Self-emp-not-inc   83311   Bachelors             13   \n",
      "2   38            Private  215646     HS-grad              9   \n",
      "3   53            Private  234721        11th              7   \n",
      "4   28            Private  338409   Bachelors             13   \n",
      "\n",
      "        marital-status          occupation    relationship    race      sex  \\\n",
      "0        Never-married        Adm-clerical   Not-in-family   White     Male   \n",
      "1   Married-civ-spouse     Exec-managerial         Husband   White     Male   \n",
      "2             Divorced   Handlers-cleaners   Not-in-family   White     Male   \n",
      "3   Married-civ-spouse   Handlers-cleaners         Husband   Black     Male   \n",
      "4   Married-civ-spouse      Prof-specialty            Wife   Black   Female   \n",
      "\n",
      "   capital-gain  capital-loss  hours-per-week  native-country  \n",
      "0          2174             0              40   United-States  \n",
      "1             0             0              13   United-States  \n",
      "2             0             0              40   United-States  \n",
      "3             0             0              40   United-States  \n",
      "4             0             0              40            Cuba  \n",
      "[0 0 0 ... 0 0 1]\n",
      "(32561, 14) (16281, 14)\n"
     ]
    }
   ],
   "source": [
    "### adult dataset\n",
    "\n",
    "# train data\n",
    "df = pd.read_csv('data/adult_data.csv')\n",
    "label = 'gross-income'\n",
    "l_encoder = LabelEncoder().fit((df[label]))\n",
    "print(l_encoder.classes_)\n",
    "y = l_encoder.transform(df[label])\n",
    "df.drop(columns=[label],inplace=True)\n",
    "X = df\n",
    "ftr_names = X.columns\n",
    "print(X.head())\n",
    "print(y)\n",
    "\n",
    "# test data\n",
    "df_test = pd.read_csv('data/adult_test.csv')\n",
    "y_test = l_encoder.transform(df_test[label])\n",
    "df_test.drop(columns=[label],inplace=True)\n",
    "X_test = df_test\n",
    "print(X.shape,X_test.shape)"
   ]
  },
  {
   "cell_type": "code",
   "execution_count": 38,
   "metadata": {},
   "outputs": [],
   "source": [
    "def ML_pipeline(X,y,X_test,y_test,random_state,n_folds,param_grid,classifier):\n",
    "    # splitter for X and y\n",
    "    kf = StratifiedKFold(n_splits=n_folds,shuffle=True,random_state=random_state)\n",
    "    # create the pipeline: preprocessor + supervised ML method\n",
    "    cat_ftrs = ['workclass','education','marital-status','occupation','relationship','race','sex','native-country']\n",
    "    cont_ftrs = ['age','fnlwgt','education-num','capital-gain','capital-loss','hours-per-week']\n",
    "    # one-hot encoder\n",
    "    categorical_transformer = Pipeline(steps=[\n",
    "        ('onehot', OneHotEncoder(sparse=False,handle_unknown='ignore'))])\n",
    "    # standard scaler\n",
    "    numeric_transformer = Pipeline(steps=[\n",
    "        ('scaler', StandardScaler())])\n",
    "    preprocessor = ColumnTransformer(\n",
    "        transformers=[\n",
    "            ('num', numeric_transformer, cont_ftrs),\n",
    "            ('cat', categorical_transformer, cat_ftrs)])\n",
    "    pipe = make_pipeline(preprocessor,classifier)\n",
    "    # prepare gridsearch\n",
    "    grid = GridSearchCV(pipe, param_grid=param_grid,cv=kf, return_train_score = True,n_jobs=6,verbose=10)\n",
    "    # do kfold CV on training data\n",
    "    grid.fit(X, y)\n",
    "    # return predicted probabilities\n",
    "    predicted_proba = grid.predict_proba(X_test)\n",
    "    test_score = grid.score(X_test,y_test)\n",
    "    return grid, predicted_proba, test_score"
   ]
  },
  {
   "cell_type": "code",
   "execution_count": 3,
   "metadata": {},
   "outputs": [
    {
     "name": "stdout",
     "output_type": "stream",
     "text": [
      "Fitting 5 folds for each of 5 candidates, totalling 25 fits\n"
     ]
    },
    {
     "name": "stderr",
     "output_type": "stream",
     "text": [
      "[Parallel(n_jobs=6)]: Using backend LokyBackend with 6 concurrent workers.\n",
      "[Parallel(n_jobs=6)]: Done   1 tasks      | elapsed:    1.6s\n",
      "[Parallel(n_jobs=6)]: Done   6 tasks      | elapsed:    2.3s\n",
      "[Parallel(n_jobs=6)]: Done  13 tasks      | elapsed:    5.8s\n",
      "[Parallel(n_jobs=6)]: Done  17 out of  25 | elapsed:   10.7s remaining:    5.0s\n",
      "[Parallel(n_jobs=6)]: Done  20 out of  25 | elapsed:   12.9s remaining:    3.2s\n",
      "[Parallel(n_jobs=6)]: Done  23 out of  25 | elapsed:   14.7s remaining:    1.3s\n",
      "[Parallel(n_jobs=6)]: Done  25 out of  25 | elapsed:   15.6s finished\n"
     ]
    },
    {
     "name": "stdout",
     "output_type": "stream",
     "text": [
      "{'logisticregression__C': 1}\n",
      "0.8106016704070595\n",
      "0.8088569498188072\n"
     ]
    }
   ],
   "source": [
    "# logistic regression with class weight\n",
    "param_grid = {'logisticregression__C' : [0.01, 0.1, 1, 10, 100]}\n",
    "classifier = LogisticRegression(penalty='l2',max_iter = 10000,class_weight='balanced')\n",
    "lrw_grid, lrw_probas, lrw_test_score = ML_pipeline(X,y,X_test,y_test,42,5,param_grid,classifier)\n",
    "print(lrw_grid.best_params_)\n",
    "print(lrw_grid.best_score_)\n",
    "print(lrw_test_score)"
   ]
  },
  {
   "cell_type": "code",
   "execution_count": 4,
   "metadata": {},
   "outputs": [
    {
     "name": "stdout",
     "output_type": "stream",
     "text": [
      "Fitting 5 folds for each of 5 candidates, totalling 25 fits\n"
     ]
    },
    {
     "name": "stderr",
     "output_type": "stream",
     "text": [
      "[Parallel(n_jobs=6)]: Using backend LokyBackend with 6 concurrent workers.\n",
      "[Parallel(n_jobs=6)]: Done   1 tasks      | elapsed:    0.8s\n",
      "[Parallel(n_jobs=6)]: Done   6 tasks      | elapsed:    1.5s\n",
      "[Parallel(n_jobs=6)]: Done  13 tasks      | elapsed:    4.8s\n",
      "[Parallel(n_jobs=6)]: Done  17 out of  25 | elapsed:   10.0s remaining:    4.7s\n",
      "[Parallel(n_jobs=6)]: Done  20 out of  25 | elapsed:   12.2s remaining:    3.0s\n",
      "[Parallel(n_jobs=6)]: Done  23 out of  25 | elapsed:   14.4s remaining:    1.2s\n",
      "[Parallel(n_jobs=6)]: Done  25 out of  25 | elapsed:   15.2s finished\n"
     ]
    },
    {
     "name": "stdout",
     "output_type": "stream",
     "text": [
      "{'logisticregression__C': 0.1}\n",
      "0.8521236821386522\n",
      "0.8532031202014618\n"
     ]
    }
   ],
   "source": [
    "# logistic regression without class weight\n",
    "param_grid = {'logisticregression__C' : [0.01, 0.1, 1, 10, 100]}\n",
    "classifier = LogisticRegression(penalty='l2',max_iter = 10000)\n",
    "lr_grid, lr_probas, lr_test_score = ML_pipeline(X,y,X_test,y_test,42,5,param_grid,classifier)\n",
    "print(lr_grid.best_params_)\n",
    "print(lr_grid.best_score_)\n",
    "print(lr_test_score)"
   ]
  },
  {
   "cell_type": "code",
   "execution_count": 5,
   "metadata": {},
   "outputs": [
    {
     "name": "stdout",
     "output_type": "stream",
     "text": [
      "Fitting 5 folds for each of 42 candidates, totalling 210 fits\n"
     ]
    },
    {
     "name": "stderr",
     "output_type": "stream",
     "text": [
      "[Parallel(n_jobs=6)]: Using backend LokyBackend with 6 concurrent workers.\n",
      "[Parallel(n_jobs=6)]: Done   1 tasks      | elapsed:   17.6s\n",
      "[Parallel(n_jobs=6)]: Done   6 tasks      | elapsed:   17.9s\n",
      "[Parallel(n_jobs=6)]: Done  13 tasks      | elapsed:   54.9s\n",
      "[Parallel(n_jobs=6)]: Done  20 tasks      | elapsed:  1.2min\n",
      "[Parallel(n_jobs=6)]: Done  29 tasks      | elapsed:  1.6min\n",
      "[Parallel(n_jobs=6)]: Done  38 tasks      | elapsed:  2.2min\n",
      "[Parallel(n_jobs=6)]: Done  49 tasks      | elapsed:  2.9min\n",
      "[Parallel(n_jobs=6)]: Done  60 tasks      | elapsed:  3.3min\n",
      "[Parallel(n_jobs=6)]: Done  73 tasks      | elapsed:  4.3min\n",
      "[Parallel(n_jobs=6)]: Done  86 tasks      | elapsed:  5.1min\n",
      "[Parallel(n_jobs=6)]: Done 101 tasks      | elapsed:  5.9min\n",
      "[Parallel(n_jobs=6)]: Done 116 tasks      | elapsed:  7.1min\n",
      "[Parallel(n_jobs=6)]: Done 133 tasks      | elapsed:  8.5min\n",
      "[Parallel(n_jobs=6)]: Done 150 tasks      | elapsed:  9.7min\n",
      "[Parallel(n_jobs=6)]: Done 169 tasks      | elapsed: 11.3min\n",
      "[Parallel(n_jobs=6)]: Done 188 tasks      | elapsed: 13.1min\n",
      "[Parallel(n_jobs=6)]: Done 210 out of 210 | elapsed: 14.8min finished\n"
     ]
    },
    {
     "name": "stdout",
     "output_type": "stream",
     "text": [
      "{'randomforestclassifier__max_features': 0.7, 'randomforestclassifier__min_samples_split': 4}\n",
      "0.8590645773280503\n",
      "0.8538787543762668\n"
     ]
    }
   ],
   "source": [
    "# random forest with class weight\n",
    "param_grid = {'randomforestclassifier__min_samples_split' : [2,4,8,16,32,64,128],\n",
    "              'randomforestclassifier__max_features' : [0.5, 0.6, 0.7, 0.8, 0.9, 1.0]}\n",
    "classifier = RandomForestClassifier(n_estimators = 100,random_state=42,class_weight='balanced')\n",
    "rfw_grid, rfw_probas, rfw_test_score = ML_pipeline(X,y,X_test,y_test,42,5,param_grid,classifier)\n",
    "print(rfw_grid.best_params_)\n",
    "print(rfw_grid.best_score_)\n",
    "print(rfw_test_score)"
   ]
  },
  {
   "cell_type": "code",
   "execution_count": 6,
   "metadata": {},
   "outputs": [
    {
     "name": "stdout",
     "output_type": "stream",
     "text": [
      "Fitting 5 folds for each of 42 candidates, totalling 210 fits\n"
     ]
    },
    {
     "name": "stderr",
     "output_type": "stream",
     "text": [
      "[Parallel(n_jobs=6)]: Using backend LokyBackend with 6 concurrent workers.\n",
      "[Parallel(n_jobs=6)]: Done   1 tasks      | elapsed:   20.1s\n",
      "[Parallel(n_jobs=6)]: Done   6 tasks      | elapsed:   20.4s\n",
      "[Parallel(n_jobs=6)]: Done  13 tasks      | elapsed:   55.8s\n",
      "[Parallel(n_jobs=6)]: Done  20 tasks      | elapsed:  1.2min\n",
      "[Parallel(n_jobs=6)]: Done  29 tasks      | elapsed:  1.5min\n",
      "[Parallel(n_jobs=6)]: Done  38 tasks      | elapsed:  2.2min\n",
      "[Parallel(n_jobs=6)]: Done  49 tasks      | elapsed:  2.9min\n",
      "[Parallel(n_jobs=6)]: Done  60 tasks      | elapsed:  3.3min\n",
      "[Parallel(n_jobs=6)]: Done  73 tasks      | elapsed:  4.3min\n",
      "[Parallel(n_jobs=6)]: Done  86 tasks      | elapsed:  5.1min\n",
      "[Parallel(n_jobs=6)]: Done 101 tasks      | elapsed:  6.0min\n",
      "[Parallel(n_jobs=6)]: Done 116 tasks      | elapsed:  7.2min\n",
      "[Parallel(n_jobs=6)]: Done 133 tasks      | elapsed:  8.4min\n",
      "[Parallel(n_jobs=6)]: Done 150 tasks      | elapsed:  9.6min\n",
      "[Parallel(n_jobs=6)]: Done 169 tasks      | elapsed: 11.3min\n",
      "[Parallel(n_jobs=6)]: Done 188 tasks      | elapsed: 12.9min\n",
      "[Parallel(n_jobs=6)]: Done 210 out of 210 | elapsed: 14.7min finished\n"
     ]
    },
    {
     "name": "stdout",
     "output_type": "stream",
     "text": [
      "{'randomforestclassifier__max_features': 0.7, 'randomforestclassifier__min_samples_split': 64}\n",
      "0.8677252139078486\n",
      "0.8664701185430871\n"
     ]
    }
   ],
   "source": [
    "# random forest without class weight\n",
    "param_grid = {'randomforestclassifier__min_samples_split' : [2,4,8,16,32,64,128],\n",
    "              'randomforestclassifier__max_features' : [0.5, 0.6, 0.7, 0.8, 0.9, 1.0]}\n",
    "classifier = RandomForestClassifier(n_estimators = 100,random_state=42)\n",
    "rf_grid, rf_probas, rf_test_score = ML_pipeline(X,y,X_test,y_test,42,5,param_grid,classifier)\n",
    "print(rf_grid.best_params_)\n",
    "print(rf_grid.best_score_)\n",
    "print(rf_test_score)"
   ]
  },
  {
   "cell_type": "code",
   "execution_count": null,
   "metadata": {},
   "outputs": [],
   "source": [
    "# # MLP\n",
    "# param_grid = {'mlpclassifier__alpha': [0.01, 0.1, 1, 10, 100],\n",
    "#               'mlpclassifier__hidden_layer_sizes': [p for p in product([2,4,8,16,32],repeat=2)]}\n",
    "# classifier = MLPClassifier()\n",
    "# mlp_grid, mlp_probas, mlp_test_score = ML_pipeline(X,y,X_test,y_test,42,5,param_grid,classifier)\n",
    "# print(mlp_probas)\n",
    "# print(mlp_grid.best_params_)\n",
    "# print(mlp_grid.best_score_)\n",
    "# print(mlp_test_score)"
   ]
  },
  {
   "cell_type": "code",
   "execution_count": null,
   "metadata": {},
   "outputs": [],
   "source": [
    "# # SVC\n",
    "# param_grid = {'svc__C': [0.01, 0.1, 1, 10, 100],\n",
    "#              'svc__gamma': [0.01, 0.1, 1, 10, 100]}\n",
    "# classifier = SVC(probability=True)\n",
    "# svc_grid, svc_probas, svc_test_score = ML_pipeline(X,y,X_test,y_test,42,5,param_grid,classifier)\n",
    "# print(svc_probas)\n",
    "# print(svc_grid.best_params_)\n",
    "# print(svc_grid.best_score_)\n",
    "# print(svc_test_score)"
   ]
  },
  {
   "cell_type": "code",
   "execution_count": 7,
   "metadata": {},
   "outputs": [
    {
     "data": {
      "image/png": "[encoded data removed]",
      "text/plain": [
       "<Figure size 432x288 with 1 Axes>"
      ]
     },
     "metadata": {
      "needs_background": "light"
     },
     "output_type": "display_data"
    }
   ],
   "source": [
    "probs = [lr_probas,lrw_probas,rf_probas,rfw_probas]\n",
    "labels = ['LogReg','LogReg with weight', 'RF', 'RF with weight']\n",
    "\n",
    "for i in range(len(probs)):\n",
    "    # let's create the reliability curves\n",
    "    bins = np.linspace(0,1,41)\n",
    "    indices = np.digitize(probs[i][:,1],bins)\n",
    "    mean_pred_value = np.zeros(len(bins)-1)\n",
    "    fraction_of_positives = np.zeros(len(bins)-1)\n",
    "    \n",
    "    for j in range(len(bins)-1):\n",
    "        mask = indices == j+1\n",
    "        mean_pred_value[j] = np.mean(probs[i][mask,1])\n",
    "        fraction_of_positives[j] = np.sum(y_test[mask])/len(y_test[mask])\n",
    "        \n",
    "    plt.step(mean_pred_value,fraction_of_positives,where='mid',label=labels[i])\n",
    "    \n",
    "plt.plot([0,1],[0,1],label='calibrated classifier')\n",
    "plt.legend()\n",
    "plt.xlabel('mean predicted value')\n",
    "plt.ylabel('fraction of positives')\n",
    "plt.show()\n",
    "    "
   ]
  },
  {
   "cell_type": "markdown",
   "metadata": {},
   "source": [
    "**Calibrated Classifier**\n",
    "\n",
    "Given the predicted probabilities of a model f(x), we pass these through a sigmoid:\n",
    "\n",
    "### $P(y=1|f) = \\frac{1}{1+exp^{-(Af+B)}}$,\n",
    "\n",
    "where A and B are fitted using an independent calibration set. Do not use the same set used for training because that will introduce a bias to the model.\n",
    "\n",
    "See [this paper](https://dl.acm.org/doi/pdf/10.1145/1102351.1102430) for more details.\n"
   ]
  },
  {
   "cell_type": "code",
   "execution_count": 33,
   "metadata": {},
   "outputs": [],
   "source": [
    "# let's fix the logistic regression classifier with weights\n",
    "from sklearn.calibration import CalibratedClassifierCV\n",
    "\n",
    "def ML_pipeline_calibrated(X,y,X_test,y_test,random_state,n_folds,param_grid,classifier):\n",
    "    # the CalibratedClassifierCV should not be used on the same points used for training the model!\n",
    "    # so we need to split X, y\n",
    "    # X_train, y_train are used to train the model\n",
    "    # X_cal and y_cal are used to calibrate it\n",
    "    X_train, X_cal, y_train, y_cal = train_test_split(X,y,test_size=0.2,random_state=42)\n",
    "    \n",
    "    # splitter for X_train and y_train\n",
    "    kf = StratifiedKFold(n_splits=n_folds,shuffle=True,random_state=random_state)\n",
    "    # create the pipeline: preprocessor + supervised ML method\n",
    "    cat_ftrs = ['workclass','education','marital-status','occupation','relationship','race','sex','native-country']\n",
    "    cont_ftrs = ['age','fnlwgt','education-num','capital-gain','capital-loss','hours-per-week']\n",
    "    # one-hot encoder\n",
    "    categorical_transformer = Pipeline(steps=[\n",
    "        ('onehot', OneHotEncoder(sparse=False,handle_unknown='ignore'))])\n",
    "    # standard scaler\n",
    "    numeric_transformer = Pipeline(steps=[\n",
    "        ('scaler', StandardScaler())])\n",
    "    \n",
    "    preprocessor = ColumnTransformer(\n",
    "        transformers=[\n",
    "            ('num', numeric_transformer, cont_ftrs),\n",
    "            ('cat', categorical_transformer, cat_ftrs)])\n",
    "    X_train_prep = preprocessor.fit_transform(X_train)\n",
    "    X_cal_prep = preprocessor.transform(X_cal)\n",
    "    X_test_prep = preprocessor.transform(X_test)\n",
    "    \n",
    "    # prepare gridsearch\n",
    "    grid = GridSearchCV(classifier, param_grid=param_grid,cv=kf, return_train_score = True,n_jobs=6,verbose=10)\n",
    "    # do kfold CV on training data\n",
    "    grid.fit(X_train_prep, y_train)\n",
    "    # return predicted probabilities\n",
    "    predicted_proba_uncal = grid.predict_proba(X_test_prep)\n",
    "    test_score_uncal = grid.score(X_test_prep,y_test)\n",
    "        \n",
    "    # calibrate it\n",
    "    cal_class_sig = CalibratedClassifierCV(grid.best_estimator_, cv = 'prefit', method='sigmoid')\n",
    "    cal_class_sig.fit(X_cal_prep,y_cal)\n",
    "    predicted_proba_sig = cal_class_sig.predict_proba(X_test_prep)\n",
    "    test_score_sig = cal_class_sig.score(X_test_prep,y_test)\n",
    "    \n",
    "    return predicted_proba_uncal, test_score_uncal, predicted_proba_sig, test_score_sig \n",
    "\n"
   ]
  },
  {
   "cell_type": "code",
   "execution_count": 34,
   "metadata": {},
   "outputs": [
    {
     "name": "stdout",
     "output_type": "stream",
     "text": [
      "Fitting 5 folds for each of 5 candidates, totalling 25 fits\n"
     ]
    },
    {
     "name": "stderr",
     "output_type": "stream",
     "text": [
      "[Parallel(n_jobs=6)]: Using backend LokyBackend with 6 concurrent workers.\n",
      "[Parallel(n_jobs=6)]: Done   1 tasks      | elapsed:    1.3s\n",
      "[Parallel(n_jobs=6)]: Done   6 tasks      | elapsed:    1.7s\n",
      "[Parallel(n_jobs=6)]: Done  13 tasks      | elapsed:    4.2s\n",
      "[Parallel(n_jobs=6)]: Done  17 out of  25 | elapsed:    7.5s remaining:    3.5s\n",
      "[Parallel(n_jobs=6)]: Done  20 out of  25 | elapsed:    8.0s remaining:    2.0s\n",
      "[Parallel(n_jobs=6)]: Done  23 out of  25 | elapsed:   10.6s remaining:    0.9s\n",
      "[Parallel(n_jobs=6)]: Done  25 out of  25 | elapsed:   10.8s finished\n"
     ]
    },
    {
     "name": "stdout",
     "output_type": "stream",
     "text": [
      "0.808549843375714\n",
      "0.8514219028315214\n"
     ]
    }
   ],
   "source": [
    "# logistic regression with class weight\n",
    "param_grid = {'C' : [0.01, 0.1, 1, 10, 100]}\n",
    "classifier = LogisticRegression(penalty='l2',max_iter = 10000,class_weight='balanced')\n",
    "lr_proba_uncal, lr_test_score_uncal, lr_proba_sig, lr_test_score_sig = ML_pipeline_calibrated(X,y,X_test,y_test,42,5,param_grid,classifier)\n",
    "print(lr_test_score_uncal)\n",
    "print(lr_test_score_sig)"
   ]
  },
  {
   "cell_type": "code",
   "execution_count": 35,
   "metadata": {},
   "outputs": [
    {
     "data": {
      "image/png": "[encoded data removed]",
      "text/plain": [
       "<Figure size 432x288 with 1 Axes>"
      ]
     },
     "metadata": {
      "needs_background": "light"
     },
     "output_type": "display_data"
    }
   ],
   "source": [
    "probs = [lr_proba_uncal,lr_proba_sig]\n",
    "labels = ['LogReg uncalibrated', 'LogReg calibrated']\n",
    "\n",
    "for i in range(len(probs)):\n",
    "    # let's create the reliability curves\n",
    "    bins = np.linspace(0,1,41)\n",
    "    indices = np.digitize(probs[i][:,1],bins)\n",
    "    mean_pred_value = np.zeros(len(bins)-1)\n",
    "    fraction_of_positives = np.zeros(len(bins)-1)\n",
    "    \n",
    "    for j in range(len(bins)-1):\n",
    "        mask = indices == j+1\n",
    "        mean_pred_value[j] = np.mean(probs[i][mask,1])\n",
    "        fraction_of_positives[j] = np.sum(y_test[mask])/len(y_test[mask])\n",
    "        \n",
    "    plt.step(mean_pred_value,fraction_of_positives,where='mid',label=labels[i])\n",
    "    \n",
    "plt.plot([0,1],[0,1],label='calibrated classifier')\n",
    "plt.legend()\n",
    "plt.xlabel('mean predicted value')\n",
    "plt.ylabel('fraction of positives')\n",
    "plt.show()\n",
    "    "
   ]
  },
  {
   "cell_type": "code",
   "execution_count": null,
   "metadata": {},
   "outputs": [],
   "source": []
  }
 ],
 "metadata": {
  "kernelspec": {
   "display_name": "Python 3",
   "language": "python",
   "name": "python3"
  },
  "language_info": {
   "codemirror_mode": {
    "name": "ipython",
    "version": 3
   },
   "file_extension": ".py",
   "mimetype": "text/x-python",
   "name": "python",
   "nbconvert_exporter": "python",
   "pygments_lexer": "ipython3",
   "version": "3.7.6"
  }
 },
 "nbformat": 4,
 "nbformat_minor": 4
}
